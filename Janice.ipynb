{
 "cells": [
  {
   "cell_type": "markdown",
   "id": "0887e01a-a28c-43dd-b954-ebf757bf023a",
   "metadata": {},
   "source": [
    "# HOLA*"
   ]
  },
  {
   "cell_type": "markdown",
   "id": "aa0c2c3c-15a2-4066-b8d6-980b3e4f5323",
   "metadata": {},
   "source": [
    "## Practicando con GitHub desde Git Bash"
   ]
  },
  {
   "cell_type": "code",
   "execution_count": 2,
   "id": "b4348264-f515-4cd9-aa43-15d6c733c9eb",
   "metadata": {},
   "outputs": [
    {
     "data": {
      "text/plain": [
       "'D:\\\\Prueba-git'"
      ]
     },
     "execution_count": 2,
     "metadata": {},
     "output_type": "execute_result"
    }
   ],
   "source": [
    "pwd()"
   ]
  },
  {
   "cell_type": "code",
   "execution_count": 11,
   "id": "462ecca0-58a1-42cf-b6ac-5061a591218e",
   "metadata": {},
   "outputs": [
    {
     "name": "stdout",
     "output_type": "stream",
     "text": [
      "https://schema.org\",\"@type\":\"OfferCatalog\",\"itemListElement\":[{\"@\n",
      "https://schema.org\",\"@type\":\"FAQPage\",\"mainEntity\":[{\"@\n"
     ]
    }
   ],
   "source": [
    "# Leer el archivo y realizar búsqueda:\n",
    "import re\n",
    "\n",
    "# Abre el archivo de texto con la especificación de codificación\n",
    "with open(\"D:\\Prueba-git\\PlazaVea.txt\", \"r\", encoding=\"utf-8\") as texto:\n",
    "    # Itera sobre cada línea del archivo\n",
    "    for linea in texto:\n",
    "        linea = linea.rstrip()  # Elimina los espacios en blanco al final de la línea\n",
    "        # Busca un patrón de URL en la línea\n",
    "        if re.search(r'https://\\S+@', linea):\n",
    "            # Imprime la URL encontrada\n",
    "            print(re.search(r'https://\\S+@', linea).group())"
   ]
  }
 ],
 "metadata": {
  "kernelspec": {
   "display_name": "Python 3 (ipykernel)",
   "language": "python",
   "name": "python3"
  },
  "language_info": {
   "codemirror_mode": {
    "name": "ipython",
    "version": 3
   },
   "file_extension": ".py",
   "mimetype": "text/x-python",
   "name": "python",
   "nbconvert_exporter": "python",
   "pygments_lexer": "ipython3",
   "version": "3.11.7"
  }
 },
 "nbformat": 4,
 "nbformat_minor": 5
}
