{
 "cells": [
  {
   "cell_type": "markdown",
   "id": "0887e01a-a28c-43dd-b954-ebf757bf023a",
   "metadata": {},
   "source": [
    "# HOLA*"
   ]
  },
  {
   "cell_type": "markdown",
   "id": "aa0c2c3c-15a2-4066-b8d6-980b3e4f5323",
   "metadata": {},
   "source": [
    "## Practicando con git hub desde git bash"
   ]
  },
  {
   "cell_type": "code",
   "execution_count": 7,
   "id": "7ad793ae-5f26-46c2-ab63-90022d9209a3",
   "metadata": {},
   "outputs": [],
   "source": [
    "# leer el archivo y realizar busqueda:\n",
    "import re\n",
    "\n",
    "with open(\"D:\\Prueba-git\\PlazaVea.txt\", \"r\", encoding=\"utf-8\") as man:\n",
    "    for linea in man:\n",
    "        linea = linea.rstrip()\n"
   ]
  },
  {
   "cell_type": "code",
   "execution_count": 2,
   "id": "d5ef0f00-4f53-42b0-8265-9e847623ab8c",
   "metadata": {},
   "outputs": [
    {
     "name": "stdout",
     "output_type": "stream",
     "text": [
      "['lamolina.edu.pe']\n"
     ]
    }
   ],
   "source": [
    "#Usando expresiones regulares:\n",
    "import re\n",
    "texto = \"From: anavargas@lamolina.edu.pe asunto: todo bien Fri 15 june 14:28:10 2019\"\n",
    "x = re.findall('@([^ ]*)',texto)\n",
    "print(x)"
   ]
  },
  {
   "cell_type": "code",
   "execution_count": 8,
   "id": "f2140f1f-9ad2-4cf6-96de-ee08185b7d33",
   "metadata": {},
   "outputs": [
    {
     "name": "stdout",
     "output_type": "stream",
     "text": [
      "https://schema.org\",\"@type\":\"OfferCatalog\",\"itemListElement\":[{\"@\n",
      "https://schema.org\",\"@type\":\"FAQPage\",\"mainEntity\":[{\"@\n"
     ]
    }
   ],
   "source": [
    "# Leer el archivo y realizar búsqueda:\n",
    "import re\n",
    "\n",
    "# Abre el archivo de texto con la especificación de codificación\n",
    "with open(\"D:\\Prueba-git\\PlazaVea.txt\", \"r\", encoding=\"utf-8\") as texto:\n",
    "    # Itera sobre cada línea del archivo\n",
    "    for linea in texto:\n",
    "        linea = linea.rstrip()  # Elimina los espacios en blanco al final de la línea\n",
    "        # Busca un patrón de URL en la línea\n",
    "        if re.search(r'https://\\S+@', linea):\n",
    "            # Imprime la URL encontrada\n",
    "            print(re.search(r'https://\\S+@', linea).group())\n"
   ]
  }
 ],
 "metadata": {
  "kernelspec": {
   "display_name": "Python 3 (ipykernel)",
   "language": "python",
   "name": "python3"
  },
  "language_info": {
   "codemirror_mode": {
    "name": "ipython",
    "version": 3
   },
   "file_extension": ".py",
   "mimetype": "text/x-python",
   "name": "python",
   "nbconvert_exporter": "python",
   "pygments_lexer": "ipython3",
   "version": "3.11.7"
  }
 },
 "nbformat": 4,
 "nbformat_minor": 5
}
