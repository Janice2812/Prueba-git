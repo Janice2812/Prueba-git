{
 "cells": [
  {
   "cell_type": "markdown",
   "id": "0887e01a-a28c-43dd-b954-ebf757bf023a",
   "metadata": {},
   "source": [
    "# Hola"
   ]
  },
  {
   "cell_type": "markdown",
   "id": "aa0c2c3c-15a2-4066-b8d6-980b3e4f5323",
   "metadata": {},
   "source": [
    "El mundo de hoy es loco, debemos mejorar a los humanos."
   ]
  },
  {
   "cell_type": "code",
   "execution_count": null,
   "id": "7ad793ae-5f26-46c2-ab63-90022d9209a3",
   "metadata": {},
   "outputs": [],
   "source": []
  }
 ],
 "metadata": {
  "kernelspec": {
   "display_name": "Python 3 (ipykernel)",
   "language": "python",
   "name": "python3"
  },
  "language_info": {
   "codemirror_mode": {
    "name": "ipython",
    "version": 3
   },
   "file_extension": ".py",
   "mimetype": "text/x-python",
   "name": "python",
   "nbconvert_exporter": "python",
   "pygments_lexer": "ipython3",
   "version": "3.11.7"
  }
 },
 "nbformat": 4,
 "nbformat_minor": 5
}
