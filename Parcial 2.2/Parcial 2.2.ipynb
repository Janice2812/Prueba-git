{
 "cells": [
  {
   "cell_type": "markdown",
   "id": "0653bef6-d3c2-46bb-9a01-7f136962ce3e",
   "metadata": {},
   "source": [
    "##### LEYENDO EL ARCHIVO "
   ]
  },
  {
   "cell_type": "code",
   "execution_count": null,
   "id": "5cdef178-1df9-4dd0-9d0f-5039e007f9a4",
   "metadata": {},
   "outputs": [],
   "source": []
  }
 ],
 "metadata": {
  "kernelspec": {
   "display_name": "Python 3 (ipykernel)",
   "language": "python",
   "name": "python3"
  },
  "language_info": {
   "codemirror_mode": {
    "name": "ipython",
    "version": 3
   },
   "file_extension": ".py",
   "mimetype": "text/x-python",
   "name": "python",
   "nbconvert_exporter": "python",
   "pygments_lexer": "ipython3",
   "version": "3.11.7"
  }
 },
 "nbformat": 4,
 "nbformat_minor": 5
}
