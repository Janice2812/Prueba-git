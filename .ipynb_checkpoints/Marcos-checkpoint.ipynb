{
 "cells": [
  {
   "cell_type": "markdown",
   "id": "559be03e-dc72-4cc1-9ed2-c912256edfce",
   "metadata": {},
   "source": [
    "<h1><span style=\"color:Darkblue\">Expresiones Regulares</span></h1>\n",
    "\n",
    "Las expresiones regulares (regular expressions o regex) son una herramienta poderosa para buscar, analizar y manipular cadenas de texto basadas en **patrones**. En Python, las expresiones regulares se manejan con el módulo **<span style=\"color:red\">\"re\"</span>**.\n",
    "\n",
    "El módulo \"re\" en Python es una biblioteca estándar que proporciona herramientas para trabajar con expresiones regulares y permite utilizar estos patrones para buscar, analizar y manipular texto de manera eficiente.\n",
    "\n",
    "#### Funcionalidades de \"re\"\n",
    "El módulo re ofrece diversas funciones para trabajar con expresiones regulares:\n",
    "   "
   ]
  },
  {
   "cell_type": "markdown",
   "id": "0283fed1-9b7d-4007-95da-90e85c78340e",
   "metadata": {},
   "source": [
    "**1. re.search():** La función re.search() se utiliza para buscar un patrón específico dentro de una cadena de texto. Si encuentra una coincidencia, devuelve un objeto que contiene información sobre esa coincidencia. Si no encuentra ninguna coincidencia, devuelve **<span style=\"color:red\">\"None\"</span>**."
   ]
  },
  {
   "cell_type": "markdown",
   "id": "6221ba94-f186-4984-a265-9b17c7d09453",
   "metadata": {},
   "source": [
    "##### **Codigo Ejemplar**"
   ]
  },
  {
   "cell_type": "code",
   "execution_count": 5,
   "id": "d858a9c5-0146-474a-bfe0-dee4dca97e3c",
   "metadata": {
    "scrolled": true
   },
   "outputs": [
    {
     "name": "stdout",
     "output_type": "stream",
     "text": [
      "Se encontró un número de teléfono: 123-456-7890\n"
     ]
    }
   ],
   "source": [
    "import re\n",
    "texto = \"Puedes contactarme al 123-456-7890.\"\n",
    "patron = r\"\\d{3}-\\d{3}-\\d{4}\"\n",
    "\n",
    "# Buscar el patrón en el texto\n",
    "resultado = re.search(patron, texto)\n",
    "\n",
    "# Verificar si se encontró una coincidencia\n",
    "if resultado:\n",
    "    print(\"Se encontró un número de teléfono:\", resultado.group())\n",
    "else:\n",
    "    print(\"No se encontró ningún número de teléfono\")\n",
    "#output: Se encontró un número de teléfono: 123-456-7894"
   ]
  },
  {
   "cell_type": "markdown",
   "id": "38ce58f1-eb7f-4de3-8e79-6af2dcfb8c30",
   "metadata": {},
   "source": [
    "**2. re.match():** La función re.match() se utiliza para determinar si un patrón específico coincide con el comienzo de una cadena de texto. Si la coincidencia se encuentra al principio de la cadena, re.match() devuelve un objeto que contiene información sobre esa coincidencia. Si no hay coincidencia al inicio de la cadena, devuelve <span style=\"color:red\">\"None\"</span>. "
   ]
  },
  {
   "cell_type": "markdown",
   "id": "6560b604-dd83-4815-b505-c10a2a3d7a56",
   "metadata": {},
   "source": [
    "##### **Codigo Ejemplar**"
   ]
  },
  {
   "cell_type": "code",
   "execution_count": 12,
   "id": "2755e5c2-8abb-407e-9bbc-9d0903f5ab38",
   "metadata": {
    "scrolled": true
   },
   "outputs": [
    {
     "name": "stdout",
     "output_type": "stream",
     "text": [
      "El texto comienza con 'Hola': Hola\n"
     ]
    }
   ],
   "source": [
    "import re\n",
    "texto = \"Hola, ¿cómo estás?\"\n",
    "patron = r\"Hola\" #\n",
    "\n",
    "# Comprobar si el texto comienza con el patrón\n",
    "resultado = re.match(patron, texto)\n",
    "\n",
    "# Verificar si se encontró una coincidencia al inicio\n",
    "if resultado:\n",
    "    print(\"El texto comienza con 'Hola':\", resultado.group())\n",
    "else:\n",
    "    print(\"El texto no comienza con 'Hola'\")\n",
    "\n",
    "#output: Hola"
   ]
  },
  {
   "cell_type": "markdown",
   "id": "b6376d03-8b1c-4e76-9438-eedf5efd2d8d",
   "metadata": {},
   "source": [
    "**3. re.findall:** La función re.findall() se utiliza para encontrar todas las coincidencias de un patrón dentro de una cadena de texto y devolverlas en una lista. A diferencia de re.search() y re.match(), que devuelven solo una coincidencia, re.findall() devuelve **todas las coincidencias en una lista**."
   ]
  },
  {
   "cell_type": "markdown",
   "id": "133ac892-ee32-495e-a7c8-acf00096fccd",
   "metadata": {},
   "source": [
    "##### **Codigo Ejemplar 1**"
   ]
  },
  {
   "cell_type": "code",
   "execution_count": 9,
   "id": "98bd508e-5e39-4515-bde8-2b7d69cde442",
   "metadata": {
    "scrolled": true
   },
   "outputs": [
    {
     "name": "stdout",
     "output_type": "stream",
     "text": [
      "Números encontrados: ['2', '3']\n"
     ]
    }
   ],
   "source": [
    "import re\n",
    "texto = \"Tengo 2 perros y 3 gatos.\"\n",
    "patron = r\"\\d+\" #patron = r\"\\d+\" es el patrón que busca uno o más dígitos.\n",
    "\n",
    "# Encontrar todas las coincidencias del patrón en el texto\n",
    "coincidencias = re.findall(patron, texto)\n",
    "\n",
    "# Mostrar las coincidencias encontradas\n",
    "print(\"Números encontrados:\", coincidencias)"
   ]
  },
  {
   "cell_type": "markdown",
   "id": "6d0882ca-a37c-4b62-b9b9-da1583905db9",
   "metadata": {},
   "source": [
    "##### **Codigo Ejemplar 2**"
   ]
  },
  {
   "cell_type": "code",
   "execution_count": 11,
   "id": "18f2455b-d480-4fde-a720-a2501214e319",
   "metadata": {
    "scrolled": true
   },
   "outputs": [
    {
     "name": "stdout",
     "output_type": "stream",
     "text": [
      "Palabras que comienzan con mayúscula: ['Alice', 'Bob', 'Charlie', 'David']\n"
     ]
    }
   ],
   "source": [
    "import re\n",
    "texto = \"Alice y Bob fueron al cine con Charlie y David.\"\n",
    "patron = r\"\\b[A-Z][a-z]*\\b\" # es el patrón que busca palabras que comienzan con una letra mayúscula.\n",
    "\n",
    "# Encontrar todas las coincidencias del patrón en el texto\n",
    "coincidencias = re.findall(patron, texto)\n",
    "\n",
    "# Mostrar las coincidencias encontradas\n",
    "print(\"Palabras que comienzan con mayúscula:\", coincidencias)"
   ]
  },
  {
   "cell_type": "markdown",
   "id": "5b89de9c-f01e-4d5f-98d8-f7589407ab66",
   "metadata": {},
   "source": [
    "### Dato 0.0 :\n",
    " - A diferencia de re.search() y re.match(), que devuelven solo una coincidencia, re.findall() devuelve todas las coincidencias en una lista."
   ]
  },
  {
   "cell_type": "markdown",
   "id": "917fa388-ba73-42d9-95ce-9fde3e1f63c0",
   "metadata": {},
   "source": [
    "**4. re.split():** La función re.split() se utiliza para dividir una cadena de texto en partes utilizando un patrón como separador. A diferencia del método split() de las cadenas de texto, que solo acepta cadenas simples como separadores, **re.split()** puede <span style=\"color:red\">usar expresiones regulares como separadores, lo que brinda mayor flexibilidad al dividir texto</span>"
   ]
  },
  {
   "cell_type": "markdown",
   "id": "e9c30790-f639-4376-93a7-7790a5a172f4",
   "metadata": {},
   "source": [
    "##### **Codigo Ejemplar 1**"
   ]
  },
  {
   "cell_type": "code",
   "execution_count": 41,
   "id": "db7a5855-9595-4528-a64e-6ca173619933",
   "metadata": {
    "scrolled": true
   },
   "outputs": [
    {
     "name": "stdout",
     "output_type": "stream",
     "text": [
      "Palabras divididas: ['Hola', 'cómo', 'estás', 'Espero', 'que', 'bien.']\n"
     ]
    }
   ],
   "source": [
    "import re \n",
    "texto = \"Hola, ¿cómo estás? Espero que bien.\"\n",
    " #es el patrón que busca uno o más espacios o signos de puntuación como separadores.\n",
    "# patron= r\"[ ¿,?!]+\"\n",
    "# Dividir la cadena en palabras utilizando el patrón como separador\n",
    "partes = re.split(\"[ ¿,?!]+\",texto)\n",
    "#partes = split(\"[ ¿,?!]+\",texto)\n",
    "\n",
    "\n",
    "# Mostrar las partes resultantes\n",
    "print(\"Palabras divididas:\", partes)"
   ]
  },
  {
   "cell_type": "markdown",
   "id": "56392702-c092-4fe2-ab00-357a5f8ae97d",
   "metadata": {},
   "source": [
    "##### **Codigo Ejemplar 2**"
   ]
  },
  {
   "cell_type": "code",
   "execution_count": 40,
   "id": "aab8d4bb-02db-4a28-ac0f-80cf14129225",
   "metadata": {
    "scrolled": true
   },
   "outputs": [
    {
     "name": "stdout",
     "output_type": "stream",
     "text": [
      "['From:', '20221412@lamolina.edu.pe', 'asunto:', 'todo', 'bien', 'Fri', '15', 'june', '14:28:10', '2005']\n",
      "20221412@lamolina.edu.pe\n",
      "['20221412', 'lamolina.edu.pe']\n",
      "lamolina.edu.pe\n"
     ]
    }
   ],
   "source": [
    "#O sin usar expresiones regulares:\n",
    "texto = \"From: 20221412@lamolina.edu.pe asunto: todo bien Fri 15 june 14:28:10 2005\"\n",
    "words = texto.split()\n",
    "print(words)\n",
    "email = words[1]\n",
    "print(email)\n",
    "piezas = email.split('@')\n",
    "print(piezas)\n",
    "print(piezas[1])"
   ]
  },
  {
   "cell_type": "markdown",
   "id": "dd1cb0ff-bee4-4398-b0d4-19baaee99cfb",
   "metadata": {},
   "source": [
    "### **Datito 0.0 :** \n",
    "##### <span style=\"color:darkgreen\">Expresión regular con r:</span>\r",
    "\r\n",
    "La r antes de una cadena en Python significa que esa cadena se debe tomar tal como está escrita, sin interpretar ningún carácter especial dentro de ella. Por ejemplo, \\n generalmente representa una nueva línea en Python, pero si usas r\"\\n\", Python lo verá como los caracteres \\ y n literalmente, sin interpretarlos como una nueva línea"
   ]
  },
  {
   "cell_type": "markdown",
   "id": "da79c39c-181b-4c74-b34f-832519236843",
   "metadata": {},
   "source": [
    "### <span style=\"color:darkred\">¿A qué se refiere la palabra \"Empatar\" en expresiones regulares?</span>\n",
    "**\"Empatar\"** en el contexto de expresiones regulares se refiere al proceso de encontrar coincidencias entre un patrón definido y el texto que estás analizando. Es un concepto fundamental en el uso efectivo de expresiones regulares para buscar, extraer o manipular información en cadenas de texto."
   ]
  },
  {
   "cell_type": "markdown",
   "id": "8cc9ca89-c1a2-4d2f-bc25-ff14237b17c3",
   "metadata": {},
   "source": [
    "#### Guía rápida de expresiones regulares:\n",
    "\n",
    "1. \".\" (punto): Representa cualquier carácter, excepto el salto de línea.\r",
    "2. \n",
    "*: Representa cero o más repeticiones del elemento anterior.3. \r\n",
    "+: Representa una o más repeticiones del elemento anterior.\r\n",
    "?: Representa cero o una repetición del elemento anterior (hace que el elemento anterior sea opcional).\r\n",
    "^: Representa el inicio de una línea o de una cadena.\r\n",
    "$: Representa el final de una línea o de una cadena.\r\n",
    "\\: Se utiliza para escapar caracteres especiales, permitiendo que se interpreten literalmente."
   ]
  }
 ],
 "metadata": {
  "kernelspec": {
   "display_name": "Python 3 (ipykernel)",
   "language": "python",
   "name": "python3"
  },
  "language_info": {
   "codemirror_mode": {
    "name": "ipython",
    "version": 3
   },
   "file_extension": ".py",
   "mimetype": "text/x-python",
   "name": "python",
   "nbconvert_exporter": "python",
   "pygments_lexer": "ipython3",
   "version": "3.11.7"
  }
 },
 "nbformat": 4,
 "nbformat_minor": 5
}
