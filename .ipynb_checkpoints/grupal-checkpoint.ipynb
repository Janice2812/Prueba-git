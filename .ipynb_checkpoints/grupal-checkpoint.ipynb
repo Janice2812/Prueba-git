{
 "cells": [
  {
   "cell_type": "markdown",
   "id": "05be3c2c-158c-4183-8f01-a4e9fc1264ca",
   "metadata": {},
   "source": [
    "# LP 2\n",
    "### Ejercicios"
   ]
  },
  {
   "cell_type": "markdown",
   "id": "bcd284c9-f98d-43cb-a5f4-4ca4e212aa82",
   "metadata": {},
   "source": [
    "### En latex\n",
    "##### Ecuaciones\n",
    "$$Y = aX^3 + bX^2 + cX + d$$\n",
    "\n",
    "$$f(x) = X^2 + X^{\\frac{1}{2}}$$\n",
    "\n",
    "$$f(X,a) = X_a + X_{1-a}$$\n",
    "\n",
    "#### Operaciones\n",
    "Suma:\n",
    "$$x + y$$\n",
    "Resta:\n",
    "$$x - y$$\n",
    "Multiplicación:\n",
    "$$x * y$$\n",
    "$$x \\times y$$\n",
    "$$x . y$$\n",
    "División:\n",
    "$$x / y$$\n",
    "$$x \\div y$$\n",
    "$$\\frac{x}{y}$$\n",
    "Raiz cuadrada:\n",
    "$$ x. \\sqrt{x}$$\n",
    "$$ \\sqrt[3]{x.y}$$\n",
    "Logaritmo:\n",
    "$$ \\log_{y} x$$"
   ]
  },
  {
   "cell_type": "markdown",
   "id": "098cef93-39c9-40d4-937e-d215d381c580",
   "metadata": {},
   "source": [
    "### MEDIA, MEDIANA, MODA, VARIANZA, COEFICIENTE VAR, DESVIACIÖN ESTÁNDAR\n",
    "##### MEDIA:\n",
    "$$ \\mu = \\frac{{\\sum\\limits_{i=1}^{n} {x_i}}}{n} $$\n",
    "##### MEDIANA:\n",
    "\n",
    "Si n es par:\n",
    "$$ me = X_{\\frac{n}{2}}$$\n",
    "Si n es impar:\n",
    "$$ me = X_{\\frac{n-1}{2}}$$\n",
    "##### MODA:\n",
    "\n",
    "Elemento más repetitivo\n",
    "$$ mo = X_i$$\n",
    "##### VARIANAZA:\n",
    "$$ S^2 = \\frac{{\\sum\\limits_{i=0}^{n} ({x_i - \\mu})^2}}{n}$$\n",
    "##### DESVIACION ESTANDAR:\n",
    "$$ S = \\sqrt{\\frac{{\\sum\\limits_{i=0}^{n} {({x_i - \\mu})^2}}}{n}}$$\n",
    "\n",
    "##### COEFICIENTE VAR:\n",
    "$$ c.v = \\frac{S_x}{\\mu}$$"
   ]
  },
  {
   "cell_type": "code",
   "execution_count": null,
   "id": "4601b824-d1e5-445d-96d5-3f2c307ee9da",
   "metadata": {},
   "outputs": [],
   "source": []
  }
 ],
 "metadata": {
  "kernelspec": {
   "display_name": "Python 3 (ipykernel)",
   "language": "python",
   "name": "python3"
  },
  "language_info": {
   "codemirror_mode": {
    "name": "ipython",
    "version": 3
   },
   "file_extension": ".py",
   "mimetype": "text/x-python",
   "name": "python",
   "nbconvert_exporter": "python",
   "pygments_lexer": "ipython3",
   "version": "3.11.7"
  }
 },
 "nbformat": 4,
 "nbformat_minor": 5
}
